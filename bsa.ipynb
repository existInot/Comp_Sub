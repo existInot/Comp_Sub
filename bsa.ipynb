{
  "nbformat": 4,
  "nbformat_minor": 0,
  "metadata": {
    "colab": {
      "name": "Untitled33.ipynb",
      "provenance": []
    },
    "kernelspec": {
      "name": "python3",
      "display_name": "Python 3"
    },
    "language_info": {
      "name": "python"
    }
  },
  "cells": [
    {
      "cell_type": "markdown",
      "source": [
        "Hi,\n",
        "Since I am not well versed in multithreading and multi processing ,I have used brute force here.\n",
        "The sleep is calculated such that the whole program runs the way it is said in the question.\n",
        "For checking result check the exec time in the colab notebook.\n",
        "Thank you.\n",
        "shift + enter "
      ],
      "metadata": {
        "id": "1wrf1SgmzrwN"
      }
    },
    {
      "cell_type": "code",
      "source": [
        "#simple folder deletion\n",
        "!rm -r \"/content/Processing\"\n",
        "!rm -r \"/content/process\"\n",
        "!rm -r \"/content/queue\"\n",
        "!rm -r \"/content/test.db\"\n"
      ],
      "metadata": {
        "id": "lN95-14ioAB8"
      },
      "execution_count": 497,
      "outputs": []
    },
    {
      "cell_type": "code",
      "source": [
        "#simple database creation\n",
        "import sqlite3\n",
        "\n",
        "conn = sqlite3.connect('test.db')\n",
        "print(\"Opened database successfully\");\n",
        "\n",
        "conn.execute('''CREATE TABLE IF NOT EXISTS data(files integer );''')\n",
        "#creating database for use"
      ],
      "metadata": {
        "colab": {
          "base_uri": "https://localhost:8080/"
        },
        "id": "PF8U-jYdtTCe",
        "outputId": "17487876-fe39-4802-e418-e26891c2ec7b"
      },
      "execution_count": 498,
      "outputs": [
        {
          "output_type": "stream",
          "name": "stdout",
          "text": [
            "Opened database successfully\n"
          ]
        },
        {
          "output_type": "execute_result",
          "data": {
            "text/plain": [
              "<sqlite3.Cursor at 0x7fd11170c9d0>"
            ]
          },
          "metadata": {},
          "execution_count": 498
        }
      ]
    },
    {
      "cell_type": "code",
      "execution_count": 499,
      "metadata": {
        "id": "hylXNCXJSB8d"
      },
      "outputs": [],
      "source": [
        "#simple folder creation\n",
        "path1 = 'Processing'\n",
        "os.mkdir(path1)"
      ]
    },
    {
      "cell_type": "code",
      "source": [
        "path2 = 'queue'\n",
        "os.mkdir(path2)"
      ],
      "metadata": {
        "id": "141XOze0S0oN"
      },
      "execution_count": 500,
      "outputs": []
    },
    {
      "cell_type": "code",
      "source": [
        "path3 = 'process'\n",
        "os.mkdir(path3)"
      ],
      "metadata": {
        "id": "LH6CvYbpSuOx"
      },
      "execution_count": 501,
      "outputs": []
    },
    {
      "cell_type": "code",
      "source": [
        "import time"
      ],
      "metadata": {
        "id": "EmA9Xs4BgA36"
      },
      "execution_count": 502,
      "outputs": []
    },
    {
      "cell_type": "code",
      "source": [
        "#moves between path1 to path2 \n",
        "def move(path1,path2):\n",
        "  x = os.listdir(path1)\n",
        "  for i in x:\n",
        "    source = path1 + '/' + i\n",
        "    destination = path2 + '/' + i\n",
        "    shutil.move(source,destination)\n",
        "    "
      ],
      "metadata": {
        "id": "GDk6zNpHng9D"
      },
      "execution_count": 503,
      "outputs": []
    },
    {
      "cell_type": "code",
      "source": [
        "#moves between path2 to path3 add sql values\n",
        "def move2(path2,path3):\n",
        "  move(path2,path3)\n",
        "  x = os.listdir(path3)\n",
        "  print(len(x))\n",
        "  for j in range(len(x)):\n",
        "    if j%2==0:\n",
        "      conn.execute(\"INSERT INTO data VALUES(0);\")\n",
        "    elif j%2!= 0:\n",
        "      conn.execute(\"INSERT INTO data VALUES(1);\")\n",
        "    conn.commit()\n",
        "  "
      ],
      "metadata": {
        "id": "DNqsWOk_wJ6G"
      },
      "execution_count": 504,
      "outputs": []
    },
    {
      "cell_type": "code",
      "source": [
        "#moves between path2 to path3 \n",
        "start  = time.perf_counter()\n",
        "def mkfile(i,path1,path2,path3):\n",
        "  if i % 5== 0 and i!= 0:\n",
        "    move(path1,path2)\n",
        "  if os.listdir(path2)!=[]:\n",
        "    move2(path2,path3)\n",
        "  path1 = path1 + '/'\n",
        "  time.sleep(0.9996570170001178)\n",
        "  f= open(f\"{path1}{i}\",\"w+\")\n",
        "print(finish-start)"
      ],
      "metadata": {
        "colab": {
          "base_uri": "https://localhost:8080/"
        },
        "id": "CqXrf1hMgNrj",
        "outputId": "744b150e-8172-4804-cfa0-795f32813c8c"
      },
      "execution_count": 505,
      "outputs": [
        {
          "output_type": "stream",
          "name": "stdout",
          "text": [
            "-4567.461671507\n"
          ]
        }
      ]
    },
    {
      "cell_type": "code",
      "source": [
        "#please put in the required seconds here\n",
        "for i in range(21):\n",
        "  mkfile(i,path1,path2,path3)"
      ],
      "metadata": {
        "colab": {
          "base_uri": "https://localhost:8080/"
        },
        "id": "ZoPjavXRutA6",
        "outputId": "8af27ee3-da83-40d4-b199-eba9f96eef02"
      },
      "execution_count": 506,
      "outputs": [
        {
          "output_type": "stream",
          "name": "stdout",
          "text": [
            "5\n",
            "10\n",
            "15\n",
            "20\n"
          ]
        }
      ]
    },
    {
      "cell_type": "code",
      "source": [
        "conn = sqlite3.connect('test.db')\n",
        "x = conn.execute(''' SELECT * from Data''')\n",
        "for i in x:\n",
        "  print(i)"
      ],
      "metadata": {
        "colab": {
          "base_uri": "https://localhost:8080/"
        },
        "id": "5RFoPkPRpqro",
        "outputId": "36a605f1-4138-4909-9b5f-1e137655fa34"
      },
      "execution_count": 507,
      "outputs": [
        {
          "output_type": "stream",
          "name": "stdout",
          "text": [
            "(0,)\n",
            "(1,)\n",
            "(0,)\n",
            "(1,)\n",
            "(0,)\n",
            "(0,)\n",
            "(1,)\n",
            "(0,)\n",
            "(1,)\n",
            "(0,)\n",
            "(1,)\n",
            "(0,)\n",
            "(1,)\n",
            "(0,)\n",
            "(1,)\n",
            "(0,)\n",
            "(1,)\n",
            "(0,)\n",
            "(1,)\n",
            "(0,)\n",
            "(1,)\n",
            "(0,)\n",
            "(1,)\n",
            "(0,)\n",
            "(1,)\n",
            "(0,)\n",
            "(1,)\n",
            "(0,)\n",
            "(1,)\n",
            "(0,)\n",
            "(0,)\n",
            "(1,)\n",
            "(0,)\n",
            "(1,)\n",
            "(0,)\n",
            "(1,)\n",
            "(0,)\n",
            "(1,)\n",
            "(0,)\n",
            "(1,)\n",
            "(0,)\n",
            "(1,)\n",
            "(0,)\n",
            "(1,)\n",
            "(0,)\n",
            "(1,)\n",
            "(0,)\n",
            "(1,)\n",
            "(0,)\n",
            "(1,)\n"
          ]
        }
      ]
    },
    {
      "cell_type": "markdown",
      "source": [
        ""
      ],
      "metadata": {
        "id": "I8O6KFjizqcP"
      }
    }
  ]
}